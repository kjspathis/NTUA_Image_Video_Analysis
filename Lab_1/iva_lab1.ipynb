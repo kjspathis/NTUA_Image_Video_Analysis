{
  "nbformat": 4,
  "nbformat_minor": 0,
  "metadata": {
    "colab": {
      "provenance": []
    },
    "kernelspec": {
      "name": "python3",
      "display_name": "Python 3"
    },
    "language_info": {
      "name": "python"
    }
  },
  "cells": [
    {
      "cell_type": "markdown",
      "source": [
        "# Τεχνολογία και Ανάλυση Εικόνων και Βίντεο\n",
        "\n",
        "## 1η εργαστηριακή άσκηση\n",
        "\n"
      ],
      "metadata": {
        "id": "g-sEy7pwRkd-"
      }
    },
    {
      "cell_type": "markdown",
      "source": [
        "## Θεωρητικό Μέρος"
      ],
      "metadata": {
        "id": "cd2krk8qSy9Z"
      }
    },
    {
      "cell_type": "markdown",
      "source": [
        "Σύμφωνα με το άρθρο [The Laplacian Pyramid as a Compact Image Code](http://citeseerx.ist.psu.edu/viewdoc/download?doi=10.1.1.136.9360&rep=rep1&type=pdf) των Burt, P. J. και Adelson, E. H. :\n",
        "\n",
        "**α)** Το πρόβλημα, που πραγματεύεται, το άρθρο αυτό αφορά την έλλειψη εμπεριστατομένης μεθόδου για την κατάλληλη επιλογή ανάλυσης κατά την κωδικοποίηση και αποκωδικοποίηση εικόνων. Για το σκοπό αυτό περιγράφεται μια τεχνική, βασισμένη σε προβλεπτικές τεχνικές και μετασχηματισμούς, η οποία συγκεκριμένα είναι η αφαίρεση της συσχέτισης των pixels από την εικόνα χρησιμοποιώντας την Laplacian πυραμίδα.\n",
        "\n",
        "**β)** Κατά την υλοποίηση αυτής της τεχνικής εφαρμόζεται και ένα φίλτρο Gauss, το οποίο συνιστά ένα low pass filter, με αποτέλεσμα να χάνει την πληροφορία για τις λεπτομέρειες της εικόνας, εφαρμόζοντας οπτικά ένα blur σε αυτές. Πρέπει να σημειωθεί ότι η εφαρμογή του φίλτρου αυτού αντιμετώπιζει προβλήματα όπως την απώλεια πληροφορίας λόγω aliasing κατά την υποδειγματοληψία των εικόνων.\n",
        "\n",
        "**γ)** H Laplacian πυραμίδα είναι μια ακολουθία από εικόνες, που αποτελούν τη διαφορά ανάμεσα σε δύο διαδοχικά επίπεδα της Gaussian πυραμίδας. Με χρήση αυτής της πυραμίδας επιλύεται το πρόβλημα της κωδικοποίησης εικόνων με χαμηλό υπολογιστικό κόστος, μιας και κωδικοποιούνται τα εκτιμούμενα σφάλματα και όχι ολόκληρες εικόνες. Αυτή η μέθοδος είναι πιο αποτελεσματική, γιατί οι Li εικόνες έχουν σε υψηλό βαθμό αποσυσχετισμένα pixel, επιτρέποντας με αυτό τον τρόπο την αναπαράστασή τους με λιγότερα bits κατά την κωδικοποίηση. Επιπλέον, οι διαδοχικές εφαρμογές low pass φίλτρων δίνουν την δυνατότητα η εικόνα-κορυφή να κωδικοποιηθεί με μικρότερο ρυθμό δειγματοληψίας.\n",
        "\n",
        "**δ)** Για να ανακτήσουμε την αρχική εικόνα από την Laplacian πυραμίδα, ακολουθείται η αντίστροφη διαδικασία της κατασκευής της πυραμίδας. Συγκεκριμένα, το μέγεθος της τρέχουσας εικόνας αναδιαμορφώνεται για να ισούται με το μέγεθος της προηγούμενης εικόνας και τις προσθέτουμε. Αυτή η διαδικασία ακολουθείται αναδρομικά μέχρι τη βάση της πυραμίδας. Η εξίσωση \n",
        "που περιγράφει αυτή την διαδικασία είναι η εξής:\n",
        "\n",
        "$$g_l = L_l + EXPAND(g_l +1) $$\n"
      ],
      "metadata": {
        "id": "WQxbhXOYUqMK"
      }
    },
    {
      "cell_type": "markdown",
      "source": [
        "## Εργαστηριακό μέρος"
      ],
      "metadata": {
        "id": "rUpM4qgeS3zb"
      }
    },
    {
      "cell_type": "markdown",
      "source": [
        "### Υλοποίηση αλγορίθμου"
      ],
      "metadata": {
        "id": "WxtW31NETI-U"
      }
    },
    {
      "cell_type": "code",
      "execution_count": null,
      "metadata": {
        "id": "GuhEPJ6PRix3"
      },
      "outputs": [],
      "source": [
        "###########################\n",
        "\"\"\" Importing Libraries \"\"\"\n",
        "###########################\n",
        "\n",
        "import numpy as np\n",
        "import matplotlib.pyplot as plt\n",
        "%matplotlib inline\n",
        "import cv2 \n",
        "import urllib.request\n",
        "from scipy import signal\n",
        "from scipy.fftpack import fft2,fftshift,ifftshift,ifft2\n",
        "import scipy.ndimage as ndi\n",
        "import scipy.stats as st\n",
        "import statistics\n",
        "from skimage import color, data, img_as_float,img_as_ubyte\n",
        "from array import *\n",
        "\n",
        "################################\n",
        "\"\"\" Functions to show Images \"\"\"\n",
        "################################\n",
        "\n",
        "#def to show image\n",
        "def PlotarismaIMG(eikona, titlos, BarOrNot):\n",
        "  im = plt.imshow(eikona) \n",
        "  plt.title(titlos)\n",
        "  if(BarOrNot):\n",
        "    bar = plt.colorbar(im)\n",
        "  plt.show()\n",
        "  return None\n",
        "\n",
        "#def to show image in grayscale\n",
        "def grayIMG(eikona, titlos, BarOrNot):\n",
        "  im = plt.imshow(eikona, cmap = 'gray') \n",
        "  plt.title(titlos)\n",
        "  if(BarOrNot):\n",
        "    gray_bar = plt.colorbar(im)\n",
        "  plt.show()\n",
        "  return None\n",
        "\n",
        "#def to show image in grayscale\n",
        "def grayRevIMG(eikona, titlos, BarOrNot):\n",
        "  im = plt.imshow(eikona, cmap = 'gray_r') \n",
        "  plt.title(titlos)\n",
        "  if(BarOrNot):\n",
        "    grayr_bar = plt.colorbar(im)\n",
        "  plt.show()\n",
        "  return None\n",
        "\n",
        "def simplePlotarisma(graphima, titlos, x_etiketa, y_etiketa):\n",
        "  plt.plot(graphima)\n",
        "  plt.title(titlos)\n",
        "  plt.xlabel(x_etiketa)\n",
        "  plt.ylabel(y_etiketa)\n",
        "  plt.show()\n",
        "  return None\n",
        "\n",
        "def depended_Plotarisma(X_axis, Y_axis, titlos, x_etiketa, y_etiketa):\n",
        "  plt.plot(X_axis, Y_axis)\n",
        "  plt.title(titlos)\n",
        "  plt.xlabel(x_etiketa)\n",
        "  plt.ylabel(y_etiketa)\n",
        "  plt.show()\n",
        "  return None\n",
        "\n",
        "def Plotarsma_3d(graphima, titlos):\n",
        "  fig = plt.figure()\n",
        "  ax = fig.add_subplot(111, projection='3d')\n",
        "  ax.scatter(graphima[:,0],graphima[:,1],graphima[:,2])\n",
        "  ax.set_xlabel('1st dimension')\n",
        "  ax.set_ylabel('2nd dimension')\n",
        "  ax.set_zlabel('3rd dimension')\n",
        "  ax.set_title(titlos)\n",
        "  #plt.grid()\n",
        "  plt.show()\n",
        "  return None\n",
        "\n",
        "def multiple_Imgs_inPlot(all_plots, Titles, rows, columns, channels):\n",
        "    \n",
        "    #creating the fig\n",
        "    fig = plt.figure(figsize=(18, 18))\n",
        "\n",
        "    for i in range(0,len(all_plots)):\n",
        "      fig.add_subplot(rows, columns, i+1)\n",
        "      if(channels==\"3_Channels\"):\n",
        "        plt.imshow(all_plots[i])\n",
        "      if(channels==\"1_Channel\"):\n",
        "        plt.imshow(all_plots[i],cmap='gray')\n",
        "      plt.title(Titles[i])\n",
        "\n",
        "    #fig.suptitle('Samples for each label')\n",
        "    plt.show()\n",
        "    return None\n",
        "\n",
        "def multiple_Plots_in_One(all_plots, Titles, rows, columns):\n",
        "    \n",
        "    #creating the fig\n",
        "    fig = plt.figure(figsize=(18, 18))\n",
        "    #fig = plt.figure()\n",
        "\n",
        "    for i in range(0,len(all_plots)):\n",
        "      fig.add_subplot(rows, columns, i+1)\n",
        "      plt.plot(all_plots[i])\n",
        "      plt.title(Titles[i])\n",
        "    \n",
        "    fig.tight_layout(pad=1.0)\n",
        "    #fig.suptitle('Samples for each label')\n",
        "    plt.show()\n",
        "    return None\n",
        "\n",
        "def Plotarisma_InSame(graphimata,titlos, x_etiketa, y_etiketa):\n",
        "  for i in range(0,len(graphimata)):\n",
        "    plt.plot(graphimata[i])\n",
        "  plt.title(titlos)\n",
        "  plt.xlabel(x_etiketa)\n",
        "  plt.ylabel(y_etiketa)\n",
        "  plt.show()\n",
        "  return None\n",
        "\n",
        "def plot_3d_dependecies(X_axis, Y_axis, Z_axis, X_name, Y_name, Z_name, titlos):\n",
        "  fig = plt.figure(figsize=(9, 9))\n",
        "  ax = fig.add_subplot(111, projection='3d')\n",
        "  \n",
        "  ax.scatter(X_axis, Y_axis, Z_axis, s=60, alpha=0.9, edgecolors='k')\n",
        "  ax.set_xlabel(X_name)\n",
        "  ax.set_ylabel(Y_name)\n",
        "  ax.set_zlabel(Z_name)\n",
        "  ax.set_title(titlos)\n",
        "  #plt.grid()\n",
        "  plt.show()\n",
        "  return None"
      ]
    },
    {
      "cell_type": "markdown",
      "source": [
        "#### Φόρτωση των εικόνων που θα χρησιμοποιηθούν σε αυτό το εργαστήριο"
      ],
      "metadata": {
        "id": "m2OjhX1AebYD"
      }
    },
    {
      "cell_type": "code",
      "source": [
        "#######################\n",
        "\"\"\" Load the Images \"\"\"\n",
        "#######################\n",
        "\n",
        "def Load_Img_From_Url(img_url):\n",
        "  # get the file like object as byte object\n",
        "  HTTP_response = urllib.request.urlopen(img_url)\n",
        "  \n",
        "  # convert it to mutable bytearray object to follow numpy input format\n",
        "  bytearray_obj = bytearray(HTTP_response.read())\n",
        "  \n",
        "  # get an array with 8-bits unsigned integers\n",
        "  arr = np.asarray(bytearray_obj, dtype=np.uint8)\n",
        "  \n",
        "  # get the BGR image\n",
        "  BGR_img = cv2.imdecode(arr,-1)\n",
        "  \n",
        "  # get the RGB image\n",
        "  RGB_img = cv2.cvtColor(BGR_img.copy(), cv2.COLOR_BGR2RGB)\n",
        "  \n",
        "  # get the YCrCb image\n",
        "  YCrCb_img = cv2.cvtColor(BGR_img.copy(), cv2.COLOR_BGR2YCrCb)\n",
        "\n",
        "  return BGR_img, RGB_img, YCrCb_img\n"
      ],
      "metadata": {
        "id": "p-s1iup7RKNE"
      },
      "execution_count": null,
      "outputs": []
    },
    {
      "cell_type": "markdown",
      "source": [
        "Παρακάτω βλέπουμε την εικόνα _Lena_ σε τρεις διαφορετικούς συνδυασμούς 3 καναλιών της εικόνας αυτής :\n",
        "* **BGR** ο συνδυασμός, που συνήθως διαβάζεται μια εικόνα\n",
        "* **RGB** ο συνδυασμός, που βλέπει το ανθρώπινο μάτι\n",
        "* **YCrCb** ο συνδυασμός, που χρησιμοποείται σε περίπτωσης αναγνώρισης προσώπου και χεριών, καθώς διαχωρίζει κατάλληλα σε 3 κανάλια το χρώμα του δέρματος από τα υπόλοιπα"
      ],
      "metadata": {
        "id": "XRMKd8jLOeDq"
      }
    },
    {
      "cell_type": "code",
      "source": [
        "# Loading Lena\n",
        "Lena_url = 'http://www.image.ntua.gr/~tpar/LABimage/lena.png'\n",
        "Lena_BGR, Lena_RGB, Lena_YCrCb = Load_Img_From_Url(Lena_url)\n",
        "multiple_Imgs_inPlot([Lena_BGR, Lena_RGB, Lena_YCrCb], [\"BGR\", \"RGB\", \"YCrCb\"], 1, 3, \"3_Channels\")\n"
      ],
      "metadata": {
        "id": "JSco1ESYIzxI"
      },
      "execution_count": null,
      "outputs": []
    },
    {
      "cell_type": "markdown",
      "source": [
        "Παρακάτω βλέπουμε την εικόνα _camera_ στην αρχική της αναπάρασταση καθώς και σε gray_scale και reverse gray_scale, δεδομένου ότι αυτή η εικόνα είναι μονοκαναλική. "
      ],
      "metadata": {
        "id": "bf6qQ3BWQNzx"
      }
    },
    {
      "cell_type": "code",
      "source": [
        "# Loading camera\n",
        "from skimage import data\n",
        "camera = data.camera()\n",
        "\n",
        "camera_fig = plt.figure(figsize=(12, 12))\n",
        "\n",
        "camera_fig.add_subplot(1, 3, 1)\n",
        "plt.imshow(camera)\n",
        "plt.title(\"Original\")\n",
        "\n",
        "camera_fig.add_subplot(1, 3, 2)\n",
        "plt.imshow(camera, cmap = 'gray')\n",
        "plt.title(\"Gray\")\n",
        "\n",
        "camera_fig.add_subplot(1, 3, 3)\n",
        "plt.imshow(camera, cmap = 'gray_r')\n",
        "plt.title(\"Reverse Gray\")\n",
        "\n",
        "#camera_fig.suptitle('Camera image representation')\n",
        "plt.show()"
      ],
      "metadata": {
        "id": "JtwqZPvAOMYw"
      },
      "execution_count": null,
      "outputs": []
    },
    {
      "cell_type": "markdown",
      "source": [
        "#### **α) Υλοποίηση συνάρτησης h = GKernel(a)**\n",
        "\n",
        "Η συνάρτηση αυτή δημιουργεί ένα Generating Kernel, όπου αποτελεί ένα σταθμισμένο μοτίβο που εφαρμόζεται σε κάθε στάδιο της πυραμίδας εξάγωντας συνολικά μία ακολουθία low-pass filtered εικόνων I<sub>0</sub>, I<sub>1</sub>, …, I<sub>N</sub> ως προϊόν συνέλιξης αυτής της συνάρτησης βάρους με τις εικόνες κάθε σταδίου.\n",
        "* Είσοδος : a (float / int) τιμή βάρους\n",
        "* Έξοδος : kernel (2d numpy array) "
      ],
      "metadata": {
        "id": "ImRlk-5UYOIK"
      }
    },
    {
      "cell_type": "code",
      "source": [
        "def GKernel(a):\n",
        "  # Burt and Adelson suggested the following kernel \n",
        "  b = 1/4\n",
        "  c = 1/4 - a/2\n",
        "  kernel1D = np.array([[c], [b], [a], [b], [c]])\n",
        "  kernel = kernel1D @ kernel1D.T\n",
        "  return kernel"
      ],
      "metadata": {
        "id": "5nwih8HYUF_y"
      },
      "execution_count": null,
      "outputs": []
    },
    {
      "cell_type": "markdown",
      "source": [
        "Παρακάτω φαίνεται ένα παράδειγμα του σταθμισμένου φίλτρου για τιμή ίση με την προτεινόμενη του άρθρου _a=0.375_ που θα χρησιμοποιεί για τις συνελίξεις με τις εικόνες."
      ],
      "metadata": {
        "id": "BDKKrS6jO8zi"
      }
    },
    {
      "cell_type": "code",
      "source": [
        "# create the generating kernel\n",
        "kernel_2D = GKernel(0.375) # Burt and Adelson suggested a = 0.375\n",
        "# show the generating kernel\n",
        "grayIMG(kernel_2D,\"Generating Kernel with a=0.5\", True)"
      ],
      "metadata": {
        "id": "vaxSIEzJPE1C"
      },
      "execution_count": null,
      "outputs": []
    },
    {
      "cell_type": "markdown",
      "source": [
        "#### **β) Υλοποίηση συνάρτηση I_out = GREDUCE(I, h)**\n",
        "\n",
        "Για τη δημιουργία μιας $N$-επιπέδων Gaussian πυραμίδα μιας εικόνας $I$ χρησιμοποιείται η συνάρτηση **GREDUCE(Ι, h)**. Η συνάρτηση αυτή είναι η συνέλιξη της εικόνας $I$ με τον σταθμισμένο πυρήνα βαρών, και η νέα εικόνα που προκύπτει είναι το 1/4 της προηγούμενης, μιας κια κάθε διάστασή της έχει μειωθεί στο μισό της. \n",
        "* Είσοδος : \n",
        " 1. I (np.array 2D) εικόνα\n",
        " 2. h (np.array 2D) kernel\n",
        "* Έξοδος : I_out (np.array 2D) εικόνα"
      ],
      "metadata": {
        "id": "_JkYv1xtYr15"
      }
    },
    {
      "cell_type": "code",
      "source": [
        "def GREDUCE(I, h):\n",
        "  ## apply 2D convolution between image and weighted kernel\n",
        "  #    * src = I (input image)\n",
        "  #    * ddepth = -1 (output same size as input image)\n",
        "  #    * kernel = h (2d kernel)\n",
        "  I_convo = cv2.filter2D(I.copy(), -1, h)\n",
        "  \n",
        "  ## resize image to 1/4 (half in each dimension)\n",
        "  #    * cv2.INTER_AREA is used when we need to shrink an image\n",
        "  I_out = cv2.resize(I_convo, (I_convo.shape[1]//2, I_convo.shape[0]//2), interpolation=cv2.INTER_AREA)\n",
        "\n",
        "  return I_out"
      ],
      "metadata": {
        "id": "BxKDsxQDYsbX"
      },
      "execution_count": null,
      "outputs": []
    },
    {
      "cell_type": "code",
      "source": [
        "# testing GREDUCE on Lena RGB\n",
        "Lena_RGB_g1 = GREDUCE(Lena_RGB, kernel_2D)\n",
        "Lena_RGB_g2 = GREDUCE(Lena_RGB_g1, kernel_2D)\n",
        "multiple_Imgs_inPlot([Lena_RGB, Lena_RGB_g1, Lena_RGB_g2], [\"g0\", \"g1\", \"g2\"], 1, 3, \"3_Channels\")"
      ],
      "metadata": {
        "id": "3QYOjsdeh4K6"
      },
      "execution_count": null,
      "outputs": []
    },
    {
      "cell_type": "code",
      "source": [
        "# testing GREDUCE on camera\n",
        "camera_g1 = GREDUCE(camera, kernel_2D)\n",
        "camera_g2 = GREDUCE(camera_g1, kernel_2D)\n",
        "multiple_Imgs_inPlot([camera, camera_g1, camera_g2], [\"g0\", \"g1\", \"g2\"], 1, 3, \"1_Channel\")"
      ],
      "metadata": {
        "id": "tGTWkZMHZsu4"
      },
      "execution_count": null,
      "outputs": []
    },
    {
      "cell_type": "markdown",
      "source": [
        "#### **γ) Υλοποίηση συνάρτησης G = GPyramid(I, a, depth)** \n",
        "Η συνάρτηση αυτή καλεί τις συναρτήσεις GKernel(a) και GREDUCE(I,h) δημιουργώντας μια πυραμίδα επιλεγμένου βάθους.\n",
        "* Είσοδος :\n",
        " 1. I (np.array 2D) εικόνα\n",
        " 2. a (float / int) τιμή βάρους\n",
        " 3. depth (int) βάθος πυραμίδας\n",
        "* Έξοδος : G (list of np.array 2D) γκαουσιανή πυραμίδα εικόνας"
      ],
      "metadata": {
        "id": "PfTcoylzYs5c"
      }
    },
    {
      "cell_type": "code",
      "source": [
        "def GPyramid(I, a, depth):  \n",
        "\n",
        "  # get the generating kernel\n",
        "  h = GKernel(a)\n",
        "  # set the base of the pyramid (g0)\n",
        "  G = [I] \n",
        "  # create the pyramid\n",
        "  I_helper = I.copy()\n",
        "  for i in range(0,depth-1):\n",
        "    I_helper = GREDUCE(I_helper, h)\n",
        "    G.append(I_helper)\n",
        "  \n",
        "  return G"
      ],
      "metadata": {
        "id": "iMQ2M-U_YtUG"
      },
      "execution_count": null,
      "outputs": []
    },
    {
      "cell_type": "code",
      "source": [
        "# testing GPyramid on Lena RGB\n",
        "Lenas_Gpyramid_example = GPyramid(Lena_RGB, 0.5, 3)\n",
        "multiple_Imgs_inPlot(Lenas_Gpyramid_example, [\"g0\", \"g1\", \"g2\"], 1, 3,\"3_Channels\")\n"
      ],
      "metadata": {
        "id": "L2qrtiV5brkQ"
      },
      "execution_count": null,
      "outputs": []
    },
    {
      "cell_type": "code",
      "source": [
        "# testing GPyramid on camera\n",
        "camera_Gpyramid_example = GPyramid(camera, 0.5, 3)\n",
        "multiple_Imgs_inPlot(camera_Gpyramid_example, [\"g0\", \"g1\", \"g2\"], 1, 3,\"1_Channel\")\n"
      ],
      "metadata": {
        "id": "f-QsIgQoSism"
      },
      "execution_count": null,
      "outputs": []
    },
    {
      "cell_type": "markdown",
      "source": [
        "#### **δ) Υλοποίηση συνάρτησης I_out = GEXPAND (I, h)**\n",
        "Η συνάρτηση αυτή κάνει την αντίστροφη \"δουλειά\" της GREDUCE, δηλαδή μετατρέπει μια εικόνα διαστάσεων (Μ+1)x(N+1) σε (2Μ+1)x(2N+1) παρεμβάλοντας νέα pixels. Στόχος αυτής της συνάρτησης είναι η ανακατασκευή της εικόνας-βάσης της πυραμίδας δεδομένης της εικόνας-κορυφής.\n",
        "\n",
        "* Είσοδος : \n",
        " 1. I (np.array 2D) εικόνα\n",
        " 2. h (np.array 2D) kernel\n",
        "* Έξοδος : I_out (np.array 2D) εικόνα"
      ],
      "metadata": {
        "id": "yElp_J6FYtlv"
      }
    },
    {
      "cell_type": "code",
      "source": [
        "def GEXPAND(I, h):\n",
        "  ## resize image to 1/4 (half in each dimension)\n",
        "  #    * cv2.INTER_AREA is used when we need to shrink an image\n",
        "  #    * cv2.INTER_NEAREST testing it also\n",
        "  Ι_resized = cv2.resize(I.copy(), (I.shape[1]*2, I.shape[0]*2), interpolation=cv2.INTER_AREA)\n",
        "  \n",
        "  ## apply 2D convolution between image and weighted kernel\n",
        "  #    * src = I (input image)\n",
        "  #    * ddepth = -1 (output same size as input image)\n",
        "  #    * kernel = h (2d kernel)\n",
        "  I_out = cv2.filter2D(Ι_resized, -1, h)\n",
        "  return I_out\n",
        "  "
      ],
      "metadata": {
        "id": "AfpPHLM-YuBx"
      },
      "execution_count": null,
      "outputs": []
    },
    {
      "cell_type": "code",
      "source": [
        "# testing GEXPAND on Lena RGB\n",
        "Lena_RGB_g1_exp = GEXPAND(Lena_RGB_g2, kernel_2D)\n",
        "Lena_RGB_g0_exp = GEXPAND(Lena_RGB_g1_exp, kernel_2D)\n",
        "multiple_Imgs_inPlot([Lena_RGB_g2, Lena_RGB_g1_exp, Lena_RGB_g0_exp], [\"g2\", \"g1\", \"g0\"], 1, 3, \"3_Channels\")\n"
      ],
      "metadata": {
        "id": "hmG2AUkJGs-3"
      },
      "execution_count": null,
      "outputs": []
    },
    {
      "cell_type": "code",
      "source": [
        "# testing GEXPAND on camera\n",
        "camera_g1_exp = GEXPAND(camera_g2, kernel_2D)\n",
        "camera_g0_exp = GEXPAND(camera_g1_exp, kernel_2D)\n",
        "multiple_Imgs_inPlot([camera_g2, camera_g1_exp, camera_g0_exp], [\"g2\", \"g1\", \"g0\"], 1, 3, \"1_Channel\")\n"
      ],
      "metadata": {
        "id": "HqyqVD7-Sy76"
      },
      "execution_count": null,
      "outputs": []
    },
    {
      "cell_type": "markdown",
      "source": [
        "#### **ε) Υλοποίηση συνάρτησης L = LPyramid(I, a, depth)**\n",
        "Σε μια Gaussian πυραμίδα, η εικόνα $L^{N-1}$ (top level) μπορεί να χρησιμεύσει ως πρόβλεψη για την εικόνα $ L ^ {N − 2} $ (επόμενο παρακάτω επίπεδο) και εάν αυτή η πρόβλεψη (η παρεμβολή $ L ^ {N-1} $) αφαιρεθεί σε $ L ^ {N- 2} $, το προκύπτον σήμα σφάλματος $ H ^ {N-2} $ μπορεί να έχει χαμηλότερη εντροπία από το αρχικό $ L ^ {N-2} $. \n",
        "\n",
        "Η συνάρτηση αυτή υλοποιεί την παραπάνω διαδικασία με εφαρμογή στην πλήρη πυραμίδα Gauss, επίπεδο προς επίπεδο, λαμβάνοντας μια πυραμίδα Laplacian μέσω:\n",
        "\n",
        "\\begin{equation}\n",
        "  \\left\\{\\begin{array}{rcl}\n",
        "    H^{N-1} & = & L^{N-1} \\text{ /* the top level of the Gaussian pyramid */}\\\\\n",
        "    H^n     & = & L^n - \\text{EXPAND}(L^{n+1});~n\\in\\{N-2,N-3,\\cdots,0\\}\n",
        "\\end{array}\\right.\n",
        "\\end{equation}\n",
        "\n",
        "\n",
        "Ο EXPAND operator εκτελεί 1/2-subpixel διδιάστατη παρεμβολή.\n",
        "\n",
        "* Είσοδος :\n",
        " 1. I (np.array 2D) εικόνα\n",
        " 2. a (float / int) τιμή βάρους\n",
        " 3. depth (int) βάθος πυραμίδας\n",
        "* Έξοδος : L (list of np.array 2D) λαπλασιανή πυραμίδα εικόνας"
      ],
      "metadata": {
        "id": "JorfC0AiZLVr"
      }
    },
    {
      "cell_type": "code",
      "source": [
        "def LPyramid(I, a, depth):\n",
        "  # get the generating kernel\n",
        "  h = GKernel(a)\n",
        "  \n",
        "  # get the gaussian pyramid\n",
        "  G = GPyramid(I, a, depth)\n",
        "  \n",
        "  # set the base of the pyramid (l0)\n",
        "  L = [G[depth-1]]\n",
        "  \n",
        "  # create the Laplacian pyramid\n",
        "  for n in range(depth-1):\n",
        "    interpolation = GEXPAND(G[depth-n-1], h)\n",
        "    difference = G[depth-n-2] - interpolation + 128\n",
        "    L.append(difference)\n",
        "  L.reverse()\n",
        "  return L"
      ],
      "metadata": {
        "id": "l5c8rIlOZLo_"
      },
      "execution_count": null,
      "outputs": []
    },
    {
      "cell_type": "code",
      "source": [
        "# testing LPyramid on Lena RGB\n",
        "Lenas_Lpyramid_example = LPyramid(Lena_RGB, 0.5, 3)\n",
        "multiple_Imgs_inPlot(Lenas_Lpyramid_example, [\"g0\", \"g1\", \"g2\"], 1, 3, \"3_Channels\")"
      ],
      "metadata": {
        "id": "7-pM-LtSNcb0"
      },
      "execution_count": null,
      "outputs": []
    },
    {
      "cell_type": "code",
      "source": [
        "# testing LPyramid on camera\n",
        "camera_Lpyramid_example = LPyramid(camera, 0.5, 3)\n",
        "multiple_Imgs_inPlot(camera_Lpyramid_example, [\"g0\", \"g1\", \"g2\"], 1, 3, \"1_Channel\")"
      ],
      "metadata": {
        "id": "28OF7BBgW8S-"
      },
      "execution_count": null,
      "outputs": []
    },
    {
      "cell_type": "markdown",
      "source": [
        "#### **στ) Υλοποίηση συνάρτησης I_out = L_Pyramid_Decode(L,a)** \n",
        "Η συνάρτηση αυτή ανακατασκευάζει την αρχική εικόνα, επεκτείνοντας και αθροίζοντας όλα τα επίπεδα της Laplacian πυραμίδας σταδιακά.\n",
        "* Είσοδος : \n",
        "\n",
        " 1. L (list of np.array 2D) Laplacian πυραμίδα\n",
        "\n",
        " 2. a (float / int) τιμή βάρους\n",
        "* Έξοδος : I_out (np.array 2D) εικόνα"
      ],
      "metadata": {
        "id": "G-fE7ThLZMCg"
      }
    },
    {
      "cell_type": "code",
      "source": [
        "def L_Pyramid_Decode(L, a):\n",
        "  # get the generating kernel\n",
        "  h = GKernel(a)\n",
        "  \n",
        "  # get the top level\n",
        "  top_level = len(L)\n",
        "  \n",
        "  # get the last top level image\n",
        "  I_out = L[top_level-1]\n",
        "  \n",
        "  # expand and sum to recreate the image\n",
        "  for n in range(top_level-1):\n",
        "    I_out = GEXPAND(I_out, h)\n",
        "    I_out = I_out + L[top_level-n-2] - 128\n",
        "  \n",
        "  return I_out"
      ],
      "metadata": {
        "id": "QBr-Cu-kZMQM"
      },
      "execution_count": null,
      "outputs": []
    },
    {
      "cell_type": "code",
      "source": [
        "# testing L_Pyramid_Decode on Lena RGB\n",
        "Lena_recreated = L_Pyramid_Decode(Lenas_Lpyramid_example, 0.5)\n",
        "PlotarismaIMG(Lena_recreated,\"Lena image recreated\",False)"
      ],
      "metadata": {
        "id": "W6TolgOWQzxX"
      },
      "execution_count": null,
      "outputs": []
    },
    {
      "cell_type": "code",
      "source": [
        "# testing L_Pyramid_Decode on camera\n",
        "camera_recreated = L_Pyramid_Decode(camera_Lpyramid_example, 0.5)\n",
        "grayIMG(camera_recreated,\"Camera image recreated\",False)"
      ],
      "metadata": {
        "id": "tUxDW8KvW44X"
      },
      "execution_count": null,
      "outputs": []
    },
    {
      "cell_type": "markdown",
      "source": [
        "#### **ζ) Υλοποίηση συνάρτησης L_Quantization**\n",
        "Η συνάρτηση αυτή κβαντίζει τα pixels των εικόνων στην Laplacian πυραμίδα, με απώτερο σκοπό τη μείωση της εντροπίας. Συγκεκριμένα, το εύρος των τιμών των pixel κατατάσσεται σε ζώνες τιμών που καθορίζονται από το πλήθος των bins. \n",
        "* Είσοδος : \n",
        " 1. I (np.array 2D) εικόνα\n",
        " 2. bins (int) πλήθος ζωνών\n",
        "* Έξοδος : I_out (np.array 2D) εικόνα"
      ],
      "metadata": {
        "id": "PwdxbSTxafSC"
      }
    },
    {
      "cell_type": "code",
      "source": [
        "def L_Quantization(I, bins):\n",
        "  # create the value bands\n",
        "  q = np.linspace(I.min(), I.max(), bins)\n",
        "  # create the reverse quantizer matrix\n",
        "  q_rev = np.roll(q,-1)\n",
        "  # final bin value is 2*255\n",
        "  q_rev[-1] = I.max() \n",
        "  # each pixel gets the value of the middle of its containing bin\n",
        "  Q = (np.digitize(I.copy(), q) + np.digitize(I.copy(), q_rev)) //2\n",
        "  I_out = Q.astype(np.uint8)\n",
        "  return I_out\n"
      ],
      "metadata": {
        "id": "rYa2lc4zZTpu"
      },
      "execution_count": null,
      "outputs": []
    },
    {
      "cell_type": "code",
      "source": [
        "# testing L_Quantization on Lena RGB\n",
        "Lena_quanted_255 = L_Quantization(Lena_RGB, 255)\n",
        "Lena_quanted_128 = L_Quantization(Lena_RGB, 128)\n",
        "Lena_quanted_64 = L_Quantization(Lena_RGB, 64)\n",
        "multiple_Imgs_inPlot([Lena_quanted_255,Lena_quanted_128,Lena_quanted_64], [\"Q_255bins\", \"Q_128bins\", \"Q_64bins\"], 1, 3, \"3_Channels\")"
      ],
      "metadata": {
        "id": "8x8L8vweeX_p"
      },
      "execution_count": null,
      "outputs": []
    },
    {
      "cell_type": "code",
      "source": [
        "# testing L_Quantization on camera\n",
        "camera_quanted_255 = L_Quantization(camera, 255)\n",
        "camera_quanted_16 = L_Quantization(camera, 16)\n",
        "camera_quanted_4 = L_Quantization(camera, 4)\n",
        "multiple_Imgs_inPlot([camera_quanted_255,camera_quanted_16,camera_quanted_4], [\"Q_255bins\", \"Q_16bins\", \"Q_4bins\"], 1, 3, \"1_Channel\")"
      ],
      "metadata": {
        "id": "oe2vgo8PeeJN"
      },
      "execution_count": null,
      "outputs": []
    },
    {
      "cell_type": "markdown",
      "source": [
        "### Δοκιμές αλγορίθμου"
      ],
      "metadata": {
        "id": "17Xg0n2gTQvj"
      }
    },
    {
      "cell_type": "markdown",
      "source": [
        "#### **α)**\n",
        "Έλεγχος λειτουργίας των συναρτήσεων L_Pyramid και L_Pyramid_Decode, με χρήση των εικόνων"
      ],
      "metadata": {
        "id": "5tBxkPI2eJTr"
      }
    },
    {
      "cell_type": "code",
      "source": [
        "def Laplacian_Transforms(I, a, depth, rows, columns, channels):\n",
        "  \n",
        "  # create L Pyramid \n",
        "  print(\"Laplacian Pyramid \\n\")\n",
        "  Laplace_Pyramid = LPyramid(I.copy(), a, depth)\n",
        "  g_titles = []\n",
        "  for i in range(0,len(Laplace_Pyramid)):\n",
        "    g_titles.append(\"g\"+str(i))\n",
        "  multiple_Imgs_inPlot(Laplace_Pyramid, g_titles, rows, columns, channels)\n",
        "  print(\"\\n\")\n",
        "\n",
        "  # create Reconstructed picture (I_R) \n",
        "  print(\"Reconstructed picrute for a={:0.4f}, depth={} \\n\".format(a,depth))\n",
        "  I_R = L_Pyramid_Decode(Laplace_Pyramid, a)\n",
        "  multiple_Imgs_inPlot([I, I_R], [\"Original\",\"Reconstructed\"], rows, columns, channels)\n",
        "  print(\"\\n\")\n",
        "\n",
        "  return Laplace_Pyramid, I_R"
      ],
      "metadata": {
        "id": "EsfixIRJiZF4"
      },
      "execution_count": null,
      "outputs": []
    },
    {
      "cell_type": "code",
      "source": [
        "############\n",
        "\"\"\" Lena \"\"\"\n",
        "############\n",
        "_ = Laplacian_Transforms(Lena_RGB, 0.375, 5, 1, 5, \"3_Channels\")"
      ],
      "metadata": {
        "id": "1pjVOx5ylYLh"
      },
      "execution_count": null,
      "outputs": []
    },
    {
      "cell_type": "code",
      "source": [
        "##############\n",
        "\"\"\" Camera \"\"\"\n",
        "##############\n",
        "\n",
        "_ = Laplacian_Transforms(camera, 0.375, 5, 1, 5, \"1_Channel\")"
      ],
      "metadata": {
        "id": "8n0F42dpgf30"
      },
      "execution_count": null,
      "outputs": []
    },
    {
      "cell_type": "markdown",
      "source": [
        "Από τα παραπάνω φαίνεται ότι οι συναρτήσεις L_Pyramid και L_Pyramid_Decode λειτουργούν τόσο για έγχρωμες εικόνες (εικόνες με 3 κανάλια) όσο και για ασπρόμαυρες εικόνες (εικόνες με 1 κανάλι). Επιπλέον, πρέπει να σημειωθεί ότι οι Laplacian πυραμίδες αποτελούνται από εικόνες αντίστοιχες με το αποτέλεσμα συνέλιξης της αρχικής εικόνας με έναν Laplacian of Gaussian πυρήνα, όπως εκφράζεται από την ακόλουθη σχέση: \n",
        "\n",
        "$$LoG(Ι;σ)= \\nabla^2(G_σ*Ι)=\\nabla^2(G_σ)*Ι$$ \n",
        "\n",
        "όπου το $\\nabla$ είναι o Laplacian τελεστής \n"
      ],
      "metadata": {
        "id": "sMvQZMr0SIL5"
      }
    },
    {
      "cell_type": "markdown",
      "source": [
        "#### **β)**\n",
        "Σύγκριση αρχικής και αποκωδικοποιημένης εικόνας με χρήση διαφορετικών ‘a’ για τιμές στο διάστημα [0.2,..,0.7]."
      ],
      "metadata": {
        "id": "Bj2fMhJceM_D"
      }
    },
    {
      "cell_type": "code",
      "source": [
        "def alpha_searcher(I, number_of_a, depth, rows, columns, channels):\n",
        "  alphas = np.linspace(0.2,0.7,number_of_a)\n",
        "  for alpha in alphas:\n",
        "    _ = Laplacian_Transforms(I, alpha, depth, rows, columns, channels)\n",
        "  return None\n",
        "\n",
        "##############################################\n",
        "\"\"\" Choose the numbers of a to search here \"\"\"\n",
        "##############################################\n",
        "noa = 50"
      ],
      "metadata": {
        "id": "gxiGxYdveNTA"
      },
      "execution_count": null,
      "outputs": []
    },
    {
      "cell_type": "code",
      "source": [
        "############\n",
        "\"\"\" Lena \"\"\"\n",
        "############\n",
        "alpha_searcher(Lena_RGB, noa, 5, 1, 5, \"3_Channels\")"
      ],
      "metadata": {
        "id": "wb1sa9i6oYil"
      },
      "execution_count": null,
      "outputs": []
    },
    {
      "cell_type": "code",
      "source": [
        "##############\n",
        "\"\"\" Camera \"\"\"\n",
        "##############\n",
        "alpha_searcher(camera, noa, 5, 1, 5, \"1_Channel\")"
      ],
      "metadata": {
        "id": "kSD-7ZUPocAJ"
      },
      "execution_count": null,
      "outputs": []
    },
    {
      "cell_type": "markdown",
      "source": [
        "Από τα παραπάνω φαίνεται ότι μεγαλύτερες τιμές της παραμέτρου _a_, οδηγούν σε μεγαλύτερη απώλεια υψίσυχνης πληροφόριας με αποτέλεσμα να εφαρμόζεται περισσότερο blurring στις λεπτομέρεις των εικόνων-επιπέδων της Laplacian πυραμίδας."
      ],
      "metadata": {
        "id": "-5IGrtEsUNrI"
      }
    },
    {
      "cell_type": "markdown",
      "source": [
        "#### **γ)**\n",
        "Σύγκριση αρχικής και αποκωδικοποιημένης εικόνας με χρήση διαφορετικών ‘depth’ για τιμές στο διάστημα [2,..,7]."
      ],
      "metadata": {
        "id": "Abi36fQ7eNoX"
      }
    },
    {
      "cell_type": "code",
      "source": [
        "def depth_searcher(I, a, rows, columns, channels):\n",
        "  depths = np.arange(2,8,1)\n",
        "  for depth in depths:\n",
        "    _ = Laplacian_Transforms(I, a, depth, rows, columns, channels)\n",
        "  return None\n",
        "\n"
      ],
      "metadata": {
        "id": "qVbW_JmYeN3C"
      },
      "execution_count": null,
      "outputs": []
    },
    {
      "cell_type": "code",
      "source": [
        "############\n",
        "\"\"\" Lena \"\"\"\n",
        "############\n",
        "depth_searcher(Lena_RGB, 0.375, 1, 7, \"3_Channels\")"
      ],
      "metadata": {
        "id": "QCiqBsKMqSV_"
      },
      "execution_count": null,
      "outputs": []
    },
    {
      "cell_type": "code",
      "source": [
        "##############\n",
        "\"\"\" Camera \"\"\"\n",
        "##############\n",
        "depth_searcher(camera, 0.375, 1, 7, \"1_Channel\")"
      ],
      "metadata": {
        "id": "rXSOZPY_qSTC"
      },
      "execution_count": null,
      "outputs": []
    },
    {
      "cell_type": "markdown",
      "source": [
        "Από τα παραπάνω φαίνεται ότι για κάθε τιμή του μεταβαλλόμενου depth η εικόνα ανακτάται χωρίς οπτικές απώλειες."
      ],
      "metadata": {
        "id": "8eC7YA_rVM5y"
      }
    },
    {
      "cell_type": "markdown",
      "source": [
        "#### δ)\n",
        "Υπολογισμός της εντροπίας και παρουσίαση των διαγραμμάτων για τα διαφορετικά ‘a’, και ‘depth’ "
      ],
      "metadata": {
        "id": "RUMxv5aieOLu"
      }
    },
    {
      "cell_type": "code",
      "source": [
        "def Entropy_and_Histograms(I, a, depth, show):\n",
        "  Laplace_Pyramid = LPyramid(I.copy(), a, depth)\n",
        "  sum_hist = np.zeros([256,1], np.float64)\n",
        "  histograms = []\n",
        "  for n in range(depth-1):\n",
        "    hist = cv2.calcHist([Laplace_Pyramid[n]], [0], None, [256], [0, 256])\n",
        "    sum_hist += hist\n",
        "    histograms.append(sum_hist/sum_hist.max()) \n",
        "  \n",
        "  entropy = st.entropy(sum_hist, base=2)[0]\n",
        "  #normalize historgram \n",
        "  sum_hist = sum_hist/sum_hist.max()\n",
        "\n",
        "  if(show):\n",
        "    print(\"The entropy for a={:0.4f} and depth={} is {:0.5f}\".format(a,depth,entropy))\n",
        "    print(\"\\n\")\n",
        "    Plotarisma_InSame(histograms,\"The histogram for a={:0.4f} and depth={}\".format(a,depth),\"\",\"\")\n",
        "\n",
        "  return sum_hist, entropy\n"
      ],
      "metadata": {
        "id": "m5ez8bzGeOdJ"
      },
      "execution_count": null,
      "outputs": []
    },
    {
      "cell_type": "code",
      "source": [
        "############\n",
        "\"\"\" Lena \"\"\"\n",
        "############\n",
        "_ = Entropy_and_Histograms(Lena_RGB, 0.375, 5, True)"
      ],
      "metadata": {
        "id": "OfC5huFwxaqU"
      },
      "execution_count": null,
      "outputs": []
    },
    {
      "cell_type": "code",
      "source": [
        "##############\n",
        "\"\"\" Camera \"\"\"\n",
        "##############\n",
        "_ = Entropy_and_Histograms(camera, 0.375, 5, True)"
      ],
      "metadata": {
        "id": "VMDYd2435Hyx"
      },
      "execution_count": null,
      "outputs": []
    },
    {
      "cell_type": "code",
      "source": [
        "def a_and_depth_searcher(I, number_of_a):\n",
        "  \n",
        "  alphas = np.linspace(0.2,0.8,number_of_a)\n",
        "  depths = np.arange(2,8,1)\n",
        "  histograms = []\n",
        "  entropies = []\n",
        "  titles = []\n",
        "  for alpha in alphas:\n",
        "    for depth in depths:\n",
        "      histograms_helper, entropies_helper = Entropy_and_Histograms(I, alpha, depth, False)\n",
        "      histograms.append(histograms_helper)\n",
        "      entropies.append(entropies_helper)\n",
        "      titles.append(\"a={:0.4f}, depth={}, entropy={:0.5f}\".format(alpha,depth,entropies_helper))\n",
        "\n",
        "  return histograms, entropies, titles\n",
        "\n",
        "def get_as_and_depths(number_of_a):\n",
        "  alphas = np.linspace(0.2, 0.8, number_of_a)\n",
        "  depths = np.arange(2, 8, 1)\n",
        "  As = []\n",
        "  Depths = []\n",
        "  for a in alphas:\n",
        "    for d in depths:\n",
        "      As.append(a)\n",
        "      Depths.append(d)\n",
        "\n",
        "  return As, Depths"
      ],
      "metadata": {
        "id": "II2wFXHn1Pvm"
      },
      "execution_count": null,
      "outputs": []
    },
    {
      "cell_type": "code",
      "source": [
        "############\n",
        "\"\"\" Lena \"\"\"\n",
        "############\n",
        "Lena_Histograms, Lena_Entropies, Lena_Histograms_Titles = a_and_depth_searcher(Lena_RGB, noa)\n"
      ],
      "metadata": {
        "id": "t7otW4bb2cYa"
      },
      "execution_count": null,
      "outputs": []
    },
    {
      "cell_type": "code",
      "source": [
        "#########################\n",
        "\"\"\" Lena's Histograms \"\"\"\n",
        "#########################\n",
        "# taking a sample of 10 histograms (5 first and last) cause we are testing a lot of as\n",
        "Lena_hist_to_show = [Lena_Histograms[i] for i in (0,1,2,3,4,-5,-4,-3,-2,-1)]\n",
        "Lena_hist_to_show_titles = [Lena_Histograms_Titles[i] for i in (0,1,2,3,4,-5,-4,-3,-2,-1)]\n",
        "\n",
        "multiple_Plots_in_One(Lena_hist_to_show, Lena_hist_to_show_titles, 4, 5)\n"
      ],
      "metadata": {
        "id": "q27My5O37ixd"
      },
      "execution_count": null,
      "outputs": []
    },
    {
      "cell_type": "code",
      "source": [
        "########################\n",
        "\"\"\" Lena's Entropies \"\"\"\n",
        "########################\n",
        "simplePlotarisma(Lena_Entropies,\"Entropies of Lena\",\"\",\"\")\n",
        "a_5, depth_5 = get_as_and_depths(noa)\n",
        "plot_3d_dependecies(a_5, depth_5, Lena_Entropies, \"a\", \"depths\", \"Entropies\", \"Entropies with respect to a and depth\")\n",
        "\n",
        "#depended_Plotarisma(alphas, Lena_Entropies, \"Entropies of Lena with respect to a\",\"a\",\"Entropy\") \n",
        "#depended_Plotarisma(depths, Lena_Entropies, \"Entropies of Lena with respect to depth\",\"depth\",\"Entropy\") "
      ],
      "metadata": {
        "id": "q5vNleIO7mnz"
      },
      "execution_count": null,
      "outputs": []
    },
    {
      "cell_type": "code",
      "source": [
        "##############\n",
        "\"\"\" Camera \"\"\"\n",
        "##############\n",
        "camera_Histograms, camera_Entropies, camera_Histograms_Titles = a_and_depth_searcher(camera, noa)\n"
      ],
      "metadata": {
        "id": "tdY2SEmm5PVH"
      },
      "execution_count": null,
      "outputs": []
    },
    {
      "cell_type": "code",
      "source": [
        "###########################\n",
        "\"\"\" Camera's Histograms \"\"\"\n",
        "###########################\n",
        "# taking a sample of 10 histograms (5 first and last) cause we are testing a lot of as\n",
        "camera_hist_to_show = [camera_Histograms[i] for i in (0,1,2,3,4,-5,-4,-3,-2,-1)]\n",
        "camera_hist_to_show_titles = [camera_Histograms_Titles[i] for i in (0,1,2,3,4,-5,-4,-3,-2,-1)]\n",
        "\n",
        "multiple_Plots_in_One(camera_hist_to_show,camera_hist_to_show_titles, 4, 5)"
      ],
      "metadata": {
        "id": "SS2Od1pQ8PPA"
      },
      "execution_count": null,
      "outputs": []
    },
    {
      "cell_type": "code",
      "source": [
        "##########################\n",
        "\"\"\" Camera's Entropies \"\"\"\n",
        "##########################\n",
        "simplePlotarisma(camera_Entropies,\"Entropies of Camera\",\"\",\"\")\n",
        "a_5, depth_5 = get_as_and_depths(noa)\n",
        "plot_3d_dependecies(a_5, depth_5, camera_Entropies, \"a\", \"depths\", \"Entropies\", \"Entropies with respect to a and depth\")"
      ],
      "metadata": {
        "id": "_Q9uLwDh8PMO"
      },
      "execution_count": null,
      "outputs": []
    },
    {
      "cell_type": "markdown",
      "source": [
        "Από τα παραπάνω φαίνεται ότι καθώς αυξάνεται η τιμή της παραμέτρου _a_, η εντροπία της εικόνας μειώνεται επιτυγχάνοντας το ελάχιστό της για μια δεδομένη τιμή και ύστερα καμπυλώνει προς τα πάνω αυξάνοντας τις τιμές της. Παράλληλα, το αντίστοιχο ιστόγραμμα κατανομής τιμών των pixel προσομοιάζει περισσότερο την dirac συνάρτηση, κάτι που υποδεικνύει ότι θα είναι εφικτό η κωδικοποίηση να γίνει σε λιγότερα bits. <br> <br>\n",
        "Η χαμηλότερη τιμή της εντοπίζεται για _a=0.7_ περίπου, κάτι που δεν ήταν το αναμενομένο μιας και στο paper αναφέρεται ως βέλτιστη τιμή το _a=0.6_ . <br> <br>\n",
        "Όσον αφορά τα επίπεδα που έχει Laplacian πυραμίδα, φαίνεται ότι όσο περισσότερα επίπεδα προστίθενται τόσο αυξάνεται η τιμή της εντροπίας.\n"
      ],
      "metadata": {
        "id": "kx2tZpLcWbkb"
      }
    },
    {
      "cell_type": "markdown",
      "source": [
        "#### ε)\n",
        "Εύρεση βέλτιστου ‘a’ με χρήση της εντροπίας και της διακύμανσης των τιμών των\n",
        "εικονοστοιχείων σε κάθε επίπεδο της Laplacian πυραμίδας."
      ],
      "metadata": {
        "id": "CfQmDBQGeOr5"
      }
    },
    {
      "cell_type": "code",
      "source": [
        "def parameter_search(I, number_of_a):\n",
        "  # declare the a and depths to be tested\n",
        "  alphas = np.linspace(0.2,0.9,number_of_a)\n",
        "  depths = np.arange(2,8,1)\n",
        "\n",
        "  # declare helpful lists\n",
        "  entropies = []\n",
        "  titles = []\n",
        "  variance = []\n",
        "\n",
        "  # declare dictionaries\n",
        "  dict_entropies_titles = {}\n",
        "  dict_entropies_values = {}\n",
        "  #dict_entropies_depths = {}\n",
        "  #dict_entropies_variance = {}\n",
        "\n",
        "  for alpha in alphas:\n",
        "    for depth in depths:\n",
        "      level_variance = []\n",
        "      h = GKernel(alpha)\n",
        "      G = GPyramid(I, alpha, depth)\n",
        "      L = [G[depth-1]]\n",
        "      for n in range(depth-1):\n",
        "        interpolation = GEXPAND(G[depth-n-1], h)\n",
        "        difference = G[depth-n-2] - interpolation + 128\n",
        "        L.append(difference)\n",
        "        level_variance.append(np.var(difference))\n",
        "      L.reverse()\n",
        "      variance.append(level_variance)\n",
        "      sum_hist = np.zeros([256,1], np.float64)\n",
        "      for n in range(depth-1):\n",
        "        hist = cv2.calcHist([L[n]], [0], None, [256], [0, 256])\n",
        "        sum_hist += hist\n",
        "      entropy = st.entropy(sum_hist, base=2)[0]\n",
        "      entropies.append(entropy)\n",
        "      titles.append(\"a={:0.4f}, depth={}, entropy={:0.5f}, variance={:0.5f}\".format(alpha,depth,entropy,np.mean(level_variance)))\n",
        "      # fill the dictionaries\n",
        "      dict_entropies_titles[entropy] = \"a={:0.4f}, depth={}, entropy={:0.5f}, variance={:0.5f}\".format(alpha,depth,entropy,np.mean(level_variance))\n",
        "      dict_entropies_values[entropy] = [alpha, depth, np.mean(level_variance)]\n",
        "\n",
        "  return variance, entropies, titles, dict_entropies_titles, dict_entropies_values\n",
        "\n",
        "def get_as_depths_vars(number_of_a, Variances):\n",
        "  alphas = np.linspace(0.2, 0.9, number_of_a)\n",
        "  depths = np.arange(2, 8, 1)\n",
        "  As = []\n",
        "  Depths = []\n",
        "  for a in alphas:\n",
        "    for d in depths:\n",
        "      As.append(a)\n",
        "      Depths.append(d)\n",
        "\n",
        "  Vars = []\n",
        "  for i in range(0,len(Variances)):\n",
        "    Vars.append(np.mean(Variances[i]))\n",
        "\n",
        "  return As, Depths, Vars\n",
        "\n",
        "def best_parameters_finder(dict_Values, dict_Titles):\n",
        "  min_key = min(dict_Values.keys())\n",
        "  print(\"The best parameters to minimize Entropy and Variance are : \",dict_Titles[min_key])\n",
        "  return dict_Values[min_key]"
      ],
      "metadata": {
        "id": "Ie-P2E3oeO-j"
      },
      "execution_count": null,
      "outputs": []
    },
    {
      "cell_type": "code",
      "source": [
        "############\n",
        "\"\"\" Lena \"\"\"\n",
        "############\n",
        "Lena_variance_best, Lena_entropies_best, Lena_titles_best, Lena_dict_entropies_titles, Lena_dict_entropies_values = parameter_search(Lena_RGB, noa)"
      ],
      "metadata": {
        "id": "stz_d-oFJUOu"
      },
      "execution_count": null,
      "outputs": []
    },
    {
      "cell_type": "code",
      "source": [
        "########################\n",
        "\"\"\" Lena's Entropies \"\"\"\n",
        "########################\n",
        "simplePlotarisma(Lena_entropies_best,\"Entropies of Lena\",\"\",\"\")\n",
        "a_5, depth_5, Lena_var_5 = get_as_depths_vars(noa, Lena_variance_best)\n",
        "plot_3d_dependecies(a_5, depth_5, Lena_entropies_best, \"a\", \"depths\", \"Entropies\", \"Entropies with respect to a and depth\")\n",
        "plot_3d_dependecies(a_5, Lena_var_5, Lena_entropies_best, \"a\", \"variance\", \"Entropies\",\"Entropies with respect to a and variance\")\n",
        "plot_3d_dependecies(depth_5, Lena_var_5, Lena_entropies_best, \"variance\", \"depths\", \"Entropies\", \"Entropies with respect to variance and depth\")"
      ],
      "metadata": {
        "id": "8XvCjUxLOnZb"
      },
      "execution_count": null,
      "outputs": []
    },
    {
      "cell_type": "code",
      "source": [
        "############################\n",
        "\"\"\" Lena best parameters \"\"\"\n",
        "############################\n",
        "Lena_best_parameters = best_parameters_finder(Lena_dict_entropies_values, Lena_dict_entropies_titles)"
      ],
      "metadata": {
        "colab": {
          "base_uri": "https://localhost:8080/"
        },
        "id": "Z-iZw8qDSBVC",
        "outputId": "7e3b648f-cc58-44e1-e56f-c7de7f90fba7"
      },
      "execution_count": null,
      "outputs": [
        {
          "output_type": "stream",
          "name": "stdout",
          "text": [
            "The best parameters to minimize Entropy and Variance are :  a=0.7143, depth=2, entropy=3.73515, variance=28.79158\n"
          ]
        }
      ]
    },
    {
      "cell_type": "code",
      "source": [
        "##############\n",
        "\"\"\" Camera \"\"\"\n",
        "##############\n",
        "camera_variance_best, camera_entropies_best, camera_titles_best, camera_dict_entropies_titles, camera_dict_entropies_values = parameter_search(camera, noa)"
      ],
      "metadata": {
        "id": "VoEYhGCnKPiM"
      },
      "execution_count": null,
      "outputs": []
    },
    {
      "cell_type": "code",
      "source": [
        "##########################\n",
        "\"\"\" Camera's Entropies \"\"\"\n",
        "##########################\n",
        "simplePlotarisma(Lena_entropies_best,\"Entropies of Camera\",\"\",\"\")\n",
        "a_5, depth_5, camera_var_5 = get_as_depths_vars(noa, camera_variance_best)\n",
        "plot_3d_dependecies(a_5, depth_5, camera_entropies_best, \"a\", \"depths\", \"Entropies\", \"Entropies with respect to a and depth\")\n",
        "plot_3d_dependecies(a_5, camera_var_5, camera_entropies_best, \"a\", \"variance\", \"Entropies\",\"Entropies with respect to a and variance\")\n",
        "plot_3d_dependecies(depth_5, camera_var_5, camera_entropies_best, \"depths\", \"variance\", \"Entropies\", \"Entropies with respect to variance and depth\")"
      ],
      "metadata": {
        "id": "Qfx-0WmuKPdP"
      },
      "execution_count": null,
      "outputs": []
    },
    {
      "cell_type": "code",
      "source": [
        "##############################\n",
        "\"\"\" Camera best parameters \"\"\"\n",
        "##############################\n",
        "camera_best_parameters = best_parameters_finder(camera_dict_entropies_values, camera_dict_entropies_titles)"
      ],
      "metadata": {
        "id": "mzPTjrIWKPZA",
        "colab": {
          "base_uri": "https://localhost:8080/"
        },
        "outputId": "52839647-defc-4d9c-f753-65dd39e9165f"
      },
      "execution_count": null,
      "outputs": [
        {
          "output_type": "stream",
          "name": "stdout",
          "text": [
            "The best parameters to minimize Entropy and Variance are :  a=0.7286, depth=2, entropy=4.08078, variance=60.27957\n"
          ]
        }
      ]
    },
    {
      "cell_type": "markdown",
      "source": [
        "Απο τα παραπάνω φαίνεται ότι η βέλτιστη τιμή της παραμέτρου _a_ είναι λίγο πάνω από το 0.7 και για τις δύο εικόνες. Αυτό, όπως αναφέρθηκε και προηγουμένως, έρχεται σε αντίθεση με το άρθρο, που υποδεικνύει για βέλτιστη τιμή το 0.6, γεγονός που οδηγεί στο συμπέρασμα ότι υπάρχει κάποιο πρόβλημα στην προγραμματιστική υλοποίηση."
      ],
      "metadata": {
        "id": "SuWnl5zSZLi0"
      }
    },
    {
      "cell_type": "markdown",
      "source": [
        "#### στ)\n",
        "Κβάντιση των εικόνων Lena και camera με χρήση διαφορετικών bin size για το βέλτιστο ‘a’ που υπολογίστηκε"
      ],
      "metadata": {
        "id": "Sdc9a13deW8B"
      }
    },
    {
      "cell_type": "code",
      "source": [
        "def L_Pyramid_Quantization(I, a, depth, bins):\n",
        "  # get the generating kernel\n",
        "  h = GKernel(a)\n",
        "  \n",
        "  # get the gaussian pyramid\n",
        "  G = GPyramid(I, a, depth)\n",
        "  \n",
        "  # set the base of the pyramid (l0)\n",
        "  L = [L_Quantization(G[depth-1], bins)]\n",
        "  for n in range(depth-1):\n",
        "    interpolation = GEXPAND(G[depth-n-1], h)\n",
        "    difference = G[depth-n-2] - interpolation + 128\n",
        "    L.append(L_Quantization(difference, bins)) # quantize each level of the pyamid\n",
        "  \n",
        "  L.reverse()\n",
        "\n",
        "  return L\n",
        "\n",
        "def L_Pyramid_Quantization_Decode(L, a):\n",
        "  # get the generating kernel\n",
        "  h = GKernel(a)\n",
        "  \n",
        "  # get the top level\n",
        "  top_level = len(L)\n",
        "  \n",
        "  # get the last top level image\n",
        "  I_out = L[top_level-1]\n",
        "  \n",
        "  # expand and sum to recreate the image\n",
        "  for n in range(top_level-1):\n",
        "    I_out = GEXPAND(I_out, h)\n",
        "    I_out = I_out + L[top_level-n-2] - 128\n",
        "  \n",
        "  return I_out\n",
        "\n",
        "def img_quantization(I, a, depth, bins):\n",
        "  \n",
        "  L = []\n",
        "  I_out = []\n",
        "  for bin in bins:\n",
        "    L_helper = L_Pyramid_Quantization(I.copy(), a, depth, bin)\n",
        "    L.append(L_helper)\n",
        "    I_out_helper = L_Pyramid_Quantization_Decode(L_helper, a)\n",
        "    I_out.append(I_out_helper)\n",
        "\n",
        "\n",
        "  #multiple_Imgs_inPlot([I.copy(), ], [\"Original\", \"Reconstructed\"], 1, 2, channels)\n",
        "\n",
        "  #multiple_Imgs_inPlot([I.copy(), ], [\"Original\", \"Reconstructed\"], 1, 2, channels)\n",
        "  \n",
        "  return L, I_out"
      ],
      "metadata": {
        "id": "QbsstDM0eXRP"
      },
      "execution_count": null,
      "outputs": []
    },
    {
      "cell_type": "code",
      "source": [
        "############\n",
        "\"\"\" Lena \"\"\"\n",
        "############\n",
        "Lena_bins = [25, 40, 50, 60, 75]\n",
        "Lena_L , Lena_I_out = img_quantization(Lena_RGB, 0.7143, 2, Lena_bins)"
      ],
      "metadata": {
        "id": "tL0LwEYZux8U"
      },
      "execution_count": null,
      "outputs": []
    },
    {
      "cell_type": "code",
      "source": [
        "for i in range(0,len(Lena_bins)):\n",
        "  multiple_Imgs_inPlot([Lena_RGB, Lena_I_out[i]], [\"Original\", \"Reconstructed\"], 3, 2, \"3_Channels\")"
      ],
      "metadata": {
        "id": "IdapBwnyux04"
      },
      "execution_count": null,
      "outputs": []
    },
    {
      "cell_type": "code",
      "source": [
        "##############\n",
        "\"\"\" Camera \"\"\"\n",
        "##############\n",
        "camera_bins = [5, 10, 20, 30, 45]\n",
        "camera_L , camera_I_out = img_quantization(camera, 0.7286, 2, camera_bins)"
      ],
      "metadata": {
        "id": "z0gF8VWwuxtY"
      },
      "execution_count": null,
      "outputs": []
    },
    {
      "cell_type": "code",
      "source": [
        "for i in range(0,len(Lena_bins)):\n",
        "  multiple_Imgs_inPlot([camera, camera_I_out[i]], [\"Original\", \"Reconstructed\"], 3, 2, \"1_Channel\")"
      ],
      "metadata": {
        "id": "I2my1eP994Pk"
      },
      "execution_count": null,
      "outputs": []
    },
    {
      "cell_type": "markdown",
      "source": [
        "Από τα παραπάνω φαίνεται ότι η κβάντιστη της ασπρόμαυρης εικόνας είναι πιο επιτυχημένη σε σχέση με την έγχρωμη. Αυτό οδηγεί στην παρακάτω δοκιμή, όπου υλοποιηθήκε ένας τρόπος κβάντιστης έγχρωμων εικόνων όπου τα γίνεται πρώτα στα κανάλια της ξεχωριστά και ύστερα ενώνονται όλα μαζί."
      ],
      "metadata": {
        "id": "Wqqxfj-DZyb-"
      }
    },
    {
      "cell_type": "code",
      "source": [
        "def quantize_3channels(I):\n",
        "  Red =  I[:,:,0]\n",
        "  Green =  I[...,1]\n",
        "  Blue =  I[...,2]\n",
        "  I_bins = [25, 40, 50, 60, 75]\n",
        "  Red_I_R = img_quantization(Red, 0.7143, 2, I_bins)[1]\n",
        "  Green_I_R = img_quantization(Green, 0.7143, 2, I_bins)[1]\n",
        "  Blue_I_R = img_quantization(Blue, 0.7143, 2, I_bins)[1] \n",
        "  merged = []\n",
        "  for i in range(0,len(Red_I_R)):\n",
        "    merged.append(cv2.merge((Red_I_R[i], Green_I_R[i], Blue_I_R[i])))\n",
        "  return merged"
      ],
      "metadata": {
        "id": "FyJILF1xaO4W"
      },
      "execution_count": null,
      "outputs": []
    },
    {
      "cell_type": "code",
      "source": [
        "Lena_merged = quantize_3channels(Lena_RGB)"
      ],
      "metadata": {
        "id": "iSzOGjtzbQ2I"
      },
      "execution_count": null,
      "outputs": []
    },
    {
      "cell_type": "code",
      "source": [
        "for i in range(0,len(Lena_merged)):\n",
        "  multiple_Imgs_inPlot([Lena_RGB, Lena_merged[i]], [\"Original\", \"Reconstructed\"], 3, 2, \"3_Channels\")"
      ],
      "metadata": {
        "id": "UU8cvMHSbyiG"
      },
      "execution_count": null,
      "outputs": []
    },
    {
      "cell_type": "markdown",
      "source": [
        "Από το paper είναι γνωστό ότι το binsize σε μία Laplacian πυραμίδα αντιπροσωπεύει την ευαισθησία ενός παρατηρητή σε σφάλματα σε ζώνες χωρικής συχνότητας. Οι άνθρωποι είναι ευαίσθητοι σε μεταβολές χαμηλής και μεσαίας χωρικής συχνότητας. Όμως, ενώ σε καμία δοκιμή για έγχρωμες εικόνες δεν υπάρχει πλήρης ανακατασκευή, είναι εφικτό με χρήση λίγων bits κωδικοποίησης και να πετύχουμε ικανοποιητικά εποτελέσματα κάτι που φαίνεται και από την ασπρόμαυρη εικόνα."
      ],
      "metadata": {
        "id": "21Bf_V1BcD3t"
      }
    }
  ]
}